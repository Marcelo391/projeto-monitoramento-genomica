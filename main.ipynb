{
 "cells": [
  {
   "cell_type": "markdown",
   "metadata": {
    "application/vnd.databricks.v1+cell": {
     "cellMetadata": {},
     "inputWidgets": {},
     "nuid": "7b0e85e3-f438-47ce-9323-2d0985fd4f3b",
     "showTitle": false,
     "title": ""
    }
   },
   "source": [
    "Projeto Sistema de Monitoramento de Avanços no Campo da Genômica\n"
   ]
  },
  {
   "cell_type": "markdown",
   "metadata": {
    "application/vnd.databricks.v1+cell": {
     "cellMetadata": {},
     "inputWidgets": {},
     "nuid": "8dbbab69-04f4-4bbc-8d7b-467872f7821a",
     "showTitle": false,
     "title": ""
    }
   },
   "source": [
    "DÚVIDA\n",
    "\n",
    "-> Tem diferença (qual melhor) entre usar o requests e o cliente library ? https://newsapi.org/docs/client-libraries/python"
   ]
  },
  {
   "cell_type": "markdown",
   "metadata": {
    "application/vnd.databricks.v1+cell": {
     "cellMetadata": {},
     "inputWidgets": {},
     "nuid": "6c5abef3-da05-4ca7-8dde-c0c8966c9fd3",
     "showTitle": false,
     "title": ""
    }
   },
   "source": [
    "1. Consumo de dados com a News API:\n",
    "\n",
    "Implementar um mecanismo para consumir dados de notícias de fontes confiáveis e especializadas em genômica e medicina personalizada, a partir da News API:\n",
    "https://newsapi.org/\n"
   ]
  },
  {
   "cell_type": "code",
   "execution_count": 0,
   "metadata": {
    "application/vnd.databricks.v1+cell": {
     "cellMetadata": {
      "byteLimit": 2048000,
      "rowLimit": 10000
     },
     "inputWidgets": {},
     "nuid": "701cb8fd-1975-40eb-97e0-e69e20f9075d",
     "showTitle": false,
     "title": ""
    }
   },
   "outputs": [],
   "source": [
    "import requests\n",
    "from pyspark.sql.functions import *\n",
    "\n",
    "API_KEY = '5220c4535529484381b6e56b7f95b0aa'"
   ]
  },
  {
   "cell_type": "code",
   "execution_count": 0,
   "metadata": {
    "application/vnd.databricks.v1+cell": {
     "cellMetadata": {
      "byteLimit": 2048000,
      "rowLimit": 10000
     },
     "inputWidgets": {},
     "nuid": "ed038c12-68b1-4453-a86b-941e0991e922",
     "showTitle": false,
     "title": ""
    }
   },
   "outputs": [
    {
     "output_type": "stream",
     "name": "stdout",
     "output_type": "stream",
     "text": [
      "https://newsapi.org/v2/everything?q=genômica&from=2024-10-01&sortBy=publishedAt&apiKey=5220c4535529484381b6e56b7f95b0aa\n"
     ]
    }
   ],
   "source": [
    "#Fazer request dos dados\n",
    "\n",
    "s_tema = \"genômica\"\n",
    "s_from = \"2024-10-01\"\n",
    "s_sortBy = \"publishedAt\" # \"publishedAt\" or \"popularity\" or \"relevancy\"\n",
    "\n",
    "url = ('https://newsapi.org/v2/everything?'\n",
    "       f'q={s_tema}&'\n",
    "       f'from={s_from}&'\n",
    "       f'sortBy={s_sortBy}&'\n",
    "       f'apiKey={API_KEY}')\n",
    "\n",
    "print(url)\n",
    "#response = requests.get(url)"
   ]
  },
  {
   "cell_type": "code",
   "execution_count": 0,
   "metadata": {
    "application/vnd.databricks.v1+cell": {
     "cellMetadata": {
      "byteLimit": 2048000,
      "rowLimit": 10000
     },
     "inputWidgets": {},
     "nuid": "62632019-c0fd-4938-b4fa-863b5e34ecb8",
     "showTitle": false,
     "title": ""
    }
   },
   "outputs": [
    {
     "output_type": "stream",
     "name": "stdout",
     "output_type": "stream",
     "text": [
      "{'status': 'ok', 'totalResults': 5, 'articles': [{'source': {'id': None, 'name': 'Uol.com.br'}, 'author': 'Agência Fapesp', 'title': 'Bactéria multirresistente que representa risco global de saúde é detectada no Nordeste', 'description': 'Cepa de Klebsiella pneumoniae havia sido identificada previamente nos Estados Unidos. Microrganismo costuma causar infecções em ambiente hospitalar e não é eliminado por nenhum antibiótico existente, sendo particularmente perigoso para pessoas com baixa imuni…', 'url': 'https://gizmodo.uol.com.br/bacteria-multirresistente-que-representa-risco-global-de-saude-e-detectada-no-nordeste/', 'urlToImage': 'https://gizmodo.uol.com.br/wp-content/blogs.dir/8/files/2024/10/bacteria-fapesp.jpg', 'publishedAt': '2024-10-09T21:36:00Z', 'content': 'Texto: André Julião |Agência FAPESP\\r\\nUma cepa da bactéria Klebsiella pneumoniae isolada de uma mulher de 86 anos com infecção urinária, admitida em um hospital em uma cidade da região Nordeste em 202… [+5151 chars]'}, {'source': {'id': None, 'name': 'Metropoles.com'}, 'author': 'Fábia Oliveira', 'title': 'Foto: Sandy é flagrada com namorado médico pela primeira vez', 'description': 'A cantora foi fotografada pelas ruas do Europa abraçadinha com o novo amor; casal está junto há alguns meses, como revelou a coluna', 'url': 'https://www.metropoles.com/colunas/fabia-oliveira/foto-sandy-e-flagrada-com-namorado-medico-pela-primeira-vez', 'urlToImage': 'https://uploads.metroimg.com/wp-content/uploads/2024/08/12134715/Sandy-e-Pedro-Andrade.jpg', 'publishedAt': '2024-10-01T15:33:17Z', 'content': 'Sandy foi flagrada juntinho com o novo namorado, o médico Pedro Andrade, pela primeira vez. Os dois foram vistos abraçados andando pelas ruas da Europa.\\xa0Na foto, obtida com exclusividade pelo perfil … [+813 chars]'}, {'source': {'id': None, 'name': 'Metropoles.com'}, 'author': 'Gabriel Lima', 'title': 'Sandy e médico circulam como um casal por Campinas, diz site', 'description': 'A cantora Sandy está namorando o médico Pedro Andrade. Os dois estavam em uma sorveteira acompanhados do filho da artista', 'url': 'https://www.metropoles.com/celebridades/sandy-e-medico-circulam-como-um-casal-por-campinas-diz-site', 'urlToImage': 'https://uploads.metroimg.com/wp-content/uploads/2024/08/02093815/capa-1721.jpg', 'publishedAt': '2024-10-01T13:30:02Z', 'content': 'Ao que tudo indica, a relação entre Sandy e o médico Pedro Carvalho engrenou. Isso porque a cantora foi vista com o rapaz tomando um sorvete em Campinas, sua terra natal, ao lado do filho Theo, de 10… [+1994 chars]'}, {'source': {'id': None, 'name': 'Metropoles.com'}, 'author': 'Fábia Oliveira', 'title': 'Novos detalhes do namoro de Sandy e Pedro Andrade vêm à tona', 'description': 'De acordo com Lucas Pasin, do UOL, a cantora Sandy já visitou o amado no trabalho e Pedro Andrade ainda deu bronca nos amigos por vazarem um vídeo', 'url': 'https://www.metropoles.com/colunas/fabia-oliveira/novos-detalhes-do-namoro-de-sandy-e-pedro-andrade-vem-a-tona', 'urlToImage': 'https://uploads.metroimg.com/wp-content/uploads/2024/10/01123003/Sandy-e-Pedro-Andrade-1.jpg', 'publishedAt': '2024-10-02T14:30:29Z', 'content': 'A curiosidade dos fãs sobre o namoro de Sandy e Pedro Andrade, revelado com exclusividade por esta colunista no fim de julho, está cada vez maior, principalmente depois que uma foto dos pombinhos pas… [+3884 chars]'}, {'source': {'id': None, 'name': 'Terra.com.br'}, 'author': 'Redação Terra', 'title': 'Ficou sério? Sandy faz aparição pública com suposto novo namorado', 'description': 'Ao que parece o relacionamento de Sandy Leah Lima, de 41 anos, com o nutrólogo Pedro Andrade ...', 'url': 'https://www.terra.com.br/diversao/gente/ficou-serio-sandy-faz-aparicao-publica-com-suposto-novo-namorado,6f1d0e045ee6b756838fb21a5c6d81bc1ffjxl31.html', 'urlToImage': 'https://p2.trrsf.com/image/fget/cf/1200/630/middle/images.terra.com/2024/08/02/medico-e-sandy-soejwwo7g2lw.png', 'publishedAt': '2024-10-01T12:54:31Z', 'content': 'Ao que parece o relacionamento de Sandy Leah Lima, de 41 anos, com o nutrólogo Pedro Andrade engrenou. Os dois foram vistos juntos nos últimos dias em uma sorveteria em Campinas (SP), terra natal da … [+2030 chars]'}]}\n"
     ]
    }
   ],
   "source": [
    "artigos = response.json()\n",
    "print(artigos)"
   ]
  },
  {
   "cell_type": "code",
   "execution_count": 0,
   "metadata": {
    "application/vnd.databricks.v1+cell": {
     "cellMetadata": {
      "byteLimit": 2048000,
      "rowLimit": 10000
     },
     "inputWidgets": {},
     "nuid": "ab176fd4-2cb9-43e1-8739-1581467d0c3f",
     "showTitle": false,
     "title": ""
    }
   },
   "outputs": [
    {
     "output_type": "stream",
     "name": "stdout",
     "output_type": "stream",
     "text": [
      "dict_keys(['source', 'author', 'title', 'description', 'url', 'urlToImage', 'publishedAt', 'content'])\n"
     ]
    }
   ],
   "source": [
    "print(artigos[\"articles\"][0].keys())"
   ]
  },
  {
   "cell_type": "code",
   "execution_count": 0,
   "metadata": {
    "application/vnd.databricks.v1+cell": {
     "cellMetadata": {
      "byteLimit": 2048000,
      "rowLimit": 10000
     },
     "inputWidgets": {},
     "nuid": "4d1e4aca-a7ee-4235-bc83-3906f43afe0c",
     "showTitle": false,
     "title": ""
    }
   },
   "outputs": [],
   "source": [
    "#gravar em um df spark\n",
    "lista_dados = []\n",
    "\n",
    "for artigo in artigos[\"articles\"]:\n",
    "  artigo[\"source\"] = artigo[\"source\"][\"name\"]\n",
    "  lista_dados.append(artigo)\n",
    "\n",
    "df = spark.createDataFrame(lista_dados)"
   ]
  },
  {
   "cell_type": "code",
   "execution_count": 0,
   "metadata": {
    "application/vnd.databricks.v1+cell": {
     "cellMetadata": {
      "byteLimit": 2048000,
      "rowLimit": 10000
     },
     "inputWidgets": {},
     "nuid": "04514692-d8b6-423b-967b-9283d4698717",
     "showTitle": false,
     "title": ""
    }
   },
   "outputs": [
    {
     "output_type": "display_data",
     "data": {
      "text/html": [
       "<style scoped>\n",
       "  .table-result-container {\n",
       "    max-height: 300px;\n",
       "    overflow: auto;\n",
       "  }\n",
       "  table, th, td {\n",
       "    border: 1px solid black;\n",
       "    border-collapse: collapse;\n",
       "  }\n",
       "  th, td {\n",
       "    padding: 5px;\n",
       "  }\n",
       "  th {\n",
       "    text-align: left;\n",
       "  }\n",
       "</style><div class='table-result-container'><table class='table-result'><thead style='background-color: white'><tr><th>author</th><th>content</th><th>description</th><th>publishedAt</th><th>source</th><th>title</th><th>url</th><th>urlToImage</th></tr></thead><tbody><tr><td>Agência Fapesp</td><td>Texto: André Julião |Agência FAPESP\r\n",
       "Uma cepa da bactéria Klebsiella pneumoniae isolada de uma mulher de 86 anos com infecção urinária, admitida em um hospital em uma cidade da região Nordeste em 202… [+5151 chars]</td><td>Cepa de Klebsiella pneumoniae havia sido identificada previamente nos Estados Unidos. Microrganismo costuma causar infecções em ambiente hospitalar e não é eliminado por nenhum antibiótico existente, sendo particularmente perigoso para pessoas com baixa imuni…</td><td>2024-10-09T21:36:00Z</td><td>Uol.com.br</td><td>Bactéria multirresistente que representa risco global de saúde é detectada no Nordeste</td><td>https://gizmodo.uol.com.br/bacteria-multirresistente-que-representa-risco-global-de-saude-e-detectada-no-nordeste/</td><td>https://gizmodo.uol.com.br/wp-content/blogs.dir/8/files/2024/10/bacteria-fapesp.jpg</td></tr><tr><td>Fábia Oliveira</td><td>Sandy foi flagrada juntinho com o novo namorado, o médico Pedro Andrade, pela primeira vez. Os dois foram vistos abraçados andando pelas ruas da Europa. Na foto, obtida com exclusividade pelo perfil … [+813 chars]</td><td>A cantora foi fotografada pelas ruas do Europa abraçadinha com o novo amor; casal está junto há alguns meses, como revelou a coluna</td><td>2024-10-01T15:33:17Z</td><td>Metropoles.com</td><td>Foto: Sandy é flagrada com namorado médico pela primeira vez</td><td>https://www.metropoles.com/colunas/fabia-oliveira/foto-sandy-e-flagrada-com-namorado-medico-pela-primeira-vez</td><td>https://uploads.metroimg.com/wp-content/uploads/2024/08/12134715/Sandy-e-Pedro-Andrade.jpg</td></tr><tr><td>Gabriel Lima</td><td>Ao que tudo indica, a relação entre Sandy e o médico Pedro Carvalho engrenou. Isso porque a cantora foi vista com o rapaz tomando um sorvete em Campinas, sua terra natal, ao lado do filho Theo, de 10… [+1994 chars]</td><td>A cantora Sandy está namorando o médico Pedro Andrade. Os dois estavam em uma sorveteira acompanhados do filho da artista</td><td>2024-10-01T13:30:02Z</td><td>Metropoles.com</td><td>Sandy e médico circulam como um casal por Campinas, diz site</td><td>https://www.metropoles.com/celebridades/sandy-e-medico-circulam-como-um-casal-por-campinas-diz-site</td><td>https://uploads.metroimg.com/wp-content/uploads/2024/08/02093815/capa-1721.jpg</td></tr><tr><td>Fábia Oliveira</td><td>A curiosidade dos fãs sobre o namoro de Sandy e Pedro Andrade, revelado com exclusividade por esta colunista no fim de julho, está cada vez maior, principalmente depois que uma foto dos pombinhos pas… [+3884 chars]</td><td>De acordo com Lucas Pasin, do UOL, a cantora Sandy já visitou o amado no trabalho e Pedro Andrade ainda deu bronca nos amigos por vazarem um vídeo</td><td>2024-10-02T14:30:29Z</td><td>Metropoles.com</td><td>Novos detalhes do namoro de Sandy e Pedro Andrade vêm à tona</td><td>https://www.metropoles.com/colunas/fabia-oliveira/novos-detalhes-do-namoro-de-sandy-e-pedro-andrade-vem-a-tona</td><td>https://uploads.metroimg.com/wp-content/uploads/2024/10/01123003/Sandy-e-Pedro-Andrade-1.jpg</td></tr><tr><td>Redação Terra</td><td>Ao que parece o relacionamento de Sandy Leah Lima, de 41 anos, com o nutrólogo Pedro Andrade engrenou. Os dois foram vistos juntos nos últimos dias em uma sorveteria em Campinas (SP), terra natal da … [+2030 chars]</td><td>Ao que parece o relacionamento de Sandy Leah Lima, de 41 anos, com o nutrólogo Pedro Andrade ...</td><td>2024-10-01T12:54:31Z</td><td>Terra.com.br</td><td>Ficou sério? Sandy faz aparição pública com suposto novo namorado</td><td>https://www.terra.com.br/diversao/gente/ficou-serio-sandy-faz-aparicao-publica-com-suposto-novo-namorado,6f1d0e045ee6b756838fb21a5c6d81bc1ffjxl31.html</td><td>https://p2.trrsf.com/image/fget/cf/1200/630/middle/images.terra.com/2024/08/02/medico-e-sandy-soejwwo7g2lw.png</td></tr></tbody></table></div>"
      ]
     },
     "metadata": {
      "application/vnd.databricks.v1+output": {
       "addedWidgets": {},
       "aggData": [],
       "aggError": "",
       "aggOverflow": false,
       "aggSchema": [],
       "aggSeriesLimitReached": false,
       "aggType": "",
       "arguments": {},
       "columnCustomDisplayInfos": {},
       "data": [
        [
         "Agência Fapesp",
         "Texto: André Julião |Agência FAPESP\r\nUma cepa da bactéria Klebsiella pneumoniae isolada de uma mulher de 86 anos com infecção urinária, admitida em um hospital em uma cidade da região Nordeste em 202… [+5151 chars]",
         "Cepa de Klebsiella pneumoniae havia sido identificada previamente nos Estados Unidos. Microrganismo costuma causar infecções em ambiente hospitalar e não é eliminado por nenhum antibiótico existente, sendo particularmente perigoso para pessoas com baixa imuni…",
         "2024-10-09T21:36:00Z",
         "Uol.com.br",
         "Bactéria multirresistente que representa risco global de saúde é detectada no Nordeste",
         "https://gizmodo.uol.com.br/bacteria-multirresistente-que-representa-risco-global-de-saude-e-detectada-no-nordeste/",
         "https://gizmodo.uol.com.br/wp-content/blogs.dir/8/files/2024/10/bacteria-fapesp.jpg"
        ],
        [
         "Fábia Oliveira",
         "Sandy foi flagrada juntinho com o novo namorado, o médico Pedro Andrade, pela primeira vez. Os dois foram vistos abraçados andando pelas ruas da Europa. Na foto, obtida com exclusividade pelo perfil … [+813 chars]",
         "A cantora foi fotografada pelas ruas do Europa abraçadinha com o novo amor; casal está junto há alguns meses, como revelou a coluna",
         "2024-10-01T15:33:17Z",
         "Metropoles.com",
         "Foto: Sandy é flagrada com namorado médico pela primeira vez",
         "https://www.metropoles.com/colunas/fabia-oliveira/foto-sandy-e-flagrada-com-namorado-medico-pela-primeira-vez",
         "https://uploads.metroimg.com/wp-content/uploads/2024/08/12134715/Sandy-e-Pedro-Andrade.jpg"
        ],
        [
         "Gabriel Lima",
         "Ao que tudo indica, a relação entre Sandy e o médico Pedro Carvalho engrenou. Isso porque a cantora foi vista com o rapaz tomando um sorvete em Campinas, sua terra natal, ao lado do filho Theo, de 10… [+1994 chars]",
         "A cantora Sandy está namorando o médico Pedro Andrade. Os dois estavam em uma sorveteira acompanhados do filho da artista",
         "2024-10-01T13:30:02Z",
         "Metropoles.com",
         "Sandy e médico circulam como um casal por Campinas, diz site",
         "https://www.metropoles.com/celebridades/sandy-e-medico-circulam-como-um-casal-por-campinas-diz-site",
         "https://uploads.metroimg.com/wp-content/uploads/2024/08/02093815/capa-1721.jpg"
        ],
        [
         "Fábia Oliveira",
         "A curiosidade dos fãs sobre o namoro de Sandy e Pedro Andrade, revelado com exclusividade por esta colunista no fim de julho, está cada vez maior, principalmente depois que uma foto dos pombinhos pas… [+3884 chars]",
         "De acordo com Lucas Pasin, do UOL, a cantora Sandy já visitou o amado no trabalho e Pedro Andrade ainda deu bronca nos amigos por vazarem um vídeo",
         "2024-10-02T14:30:29Z",
         "Metropoles.com",
         "Novos detalhes do namoro de Sandy e Pedro Andrade vêm à tona",
         "https://www.metropoles.com/colunas/fabia-oliveira/novos-detalhes-do-namoro-de-sandy-e-pedro-andrade-vem-a-tona",
         "https://uploads.metroimg.com/wp-content/uploads/2024/10/01123003/Sandy-e-Pedro-Andrade-1.jpg"
        ],
        [
         "Redação Terra",
         "Ao que parece o relacionamento de Sandy Leah Lima, de 41 anos, com o nutrólogo Pedro Andrade engrenou. Os dois foram vistos juntos nos últimos dias em uma sorveteria em Campinas (SP), terra natal da … [+2030 chars]",
         "Ao que parece o relacionamento de Sandy Leah Lima, de 41 anos, com o nutrólogo Pedro Andrade ...",
         "2024-10-01T12:54:31Z",
         "Terra.com.br",
         "Ficou sério? Sandy faz aparição pública com suposto novo namorado",
         "https://www.terra.com.br/diversao/gente/ficou-serio-sandy-faz-aparicao-publica-com-suposto-novo-namorado,6f1d0e045ee6b756838fb21a5c6d81bc1ffjxl31.html",
         "https://p2.trrsf.com/image/fget/cf/1200/630/middle/images.terra.com/2024/08/02/medico-e-sandy-soejwwo7g2lw.png"
        ]
       ],
       "datasetInfos": [],
       "dbfsResultPath": null,
       "isJsonSchema": true,
       "metadata": {},
       "overflow": false,
       "plotOptions": {
        "customPlotOptions": {},
        "displayType": "table",
        "pivotAggregation": null,
        "pivotColumns": null,
        "xColumns": null,
        "yColumns": null
       },
       "removedWidgets": [],
       "schema": [
        {
         "metadata": "{}",
         "name": "author",
         "type": "\"string\""
        },
        {
         "metadata": "{}",
         "name": "content",
         "type": "\"string\""
        },
        {
         "metadata": "{}",
         "name": "description",
         "type": "\"string\""
        },
        {
         "metadata": "{}",
         "name": "publishedAt",
         "type": "\"string\""
        },
        {
         "metadata": "{}",
         "name": "source",
         "type": "\"string\""
        },
        {
         "metadata": "{}",
         "name": "title",
         "type": "\"string\""
        },
        {
         "metadata": "{}",
         "name": "url",
         "type": "\"string\""
        },
        {
         "metadata": "{}",
         "name": "urlToImage",
         "type": "\"string\""
        }
       ],
       "type": "table"
      }
     },
     "output_type": "display_data"
    }
   ],
   "source": [
    "display(df)"
   ]
  },
  {
   "cell_type": "code",
   "execution_count": 0,
   "metadata": {
    "application/vnd.databricks.v1+cell": {
     "cellMetadata": {
      "byteLimit": 2048000,
      "rowLimit": 10000
     },
     "inputWidgets": {},
     "nuid": "4fb66ee3-6bb1-4953-9212-09600be08660",
     "showTitle": false,
     "title": ""
    }
   },
   "outputs": [
    {
     "output_type": "stream",
     "name": "stdout",
     "output_type": "stream",
     "text": [
      "root\n |-- author: string (nullable = true)\n |-- content: string (nullable = true)\n |-- description: string (nullable = true)\n |-- publishedAt: string (nullable = true)\n |-- source: string (nullable = true)\n |-- title: string (nullable = true)\n |-- url: string (nullable = true)\n |-- urlToImage: string (nullable = true)\n\n"
     ]
    }
   ],
   "source": [
    "df.printSchema()\n"
   ]
  },
  {
   "cell_type": "markdown",
   "metadata": {
    "application/vnd.databricks.v1+cell": {
     "cellMetadata": {},
     "inputWidgets": {},
     "nuid": "5dc34660-b5ee-4e2c-b278-081a15822a48",
     "showTitle": false,
     "title": ""
    }
   },
   "source": [
    "\n",
    "2. Definir Critérios de Relevância:\n",
    "Desenvolver critérios precisos de relevância para filtrar as notícias. Por exemplo, o time pode se concentrar em notícias que mencionem avanços em sequenciamento de DNA, terapias genéticas personalizadas ou descobertas relacionadas a doenças genéticas específicas.\n"
   ]
  },
  {
   "cell_type": "code",
   "execution_count": 0,
   "metadata": {
    "application/vnd.databricks.v1+cell": {
     "cellMetadata": {},
     "inputWidgets": {},
     "nuid": "68212a3f-4c46-411a-bd7d-61704740bd6a",
     "showTitle": false,
     "title": ""
    }
   },
   "outputs": [],
   "source": [
    "#Realizar os filtros necessários"
   ]
  },
  {
   "cell_type": "code",
   "execution_count": 0,
   "metadata": {
    "application/vnd.databricks.v1+cell": {
     "cellMetadata": {
      "byteLimit": 2048000,
      "rowLimit": 10000
     },
     "inputWidgets": {},
     "nuid": "49d88021-858e-4591-9687-ad2a54f38e82",
     "showTitle": false,
     "title": ""
    }
   },
   "outputs": [
    {
     "output_type": "display_data",
     "data": {
      "text/html": [
       "<style scoped>\n",
       "  .table-result-container {\n",
       "    max-height: 300px;\n",
       "    overflow: auto;\n",
       "  }\n",
       "  table, th, td {\n",
       "    border: 1px solid black;\n",
       "    border-collapse: collapse;\n",
       "  }\n",
       "  th, td {\n",
       "    padding: 5px;\n",
       "  }\n",
       "  th {\n",
       "    text-align: left;\n",
       "  }\n",
       "</style><div class='table-result-container'><table class='table-result'><thead style='background-color: white'><tr><th>author</th><th>content</th><th>description</th><th>publishedAt</th><th>source</th><th>title</th><th>url</th><th>urlToImage</th></tr></thead><tbody><tr><td>Agência Fapesp</td><td>Texto: André Julião |Agência FAPESP\r\n",
       "Uma cepa da bactéria Klebsiella pneumoniae isolada de uma mulher de 86 anos com infecção urinária, admitida em um hospital em uma cidade da região Nordeste em 202… [+5151 chars]</td><td>Cepa de Klebsiella pneumoniae havia sido identificada previamente nos Estados Unidos. Microrganismo costuma causar infecções em ambiente hospitalar e não é eliminado por nenhum antibiótico existente, sendo particularmente perigoso para pessoas com baixa imuni…</td><td>2024-10-09T21:36:00Z</td><td>Uol.com.br</td><td>Bactéria multirresistente que representa risco global de saúde é detectada no Nordeste</td><td>https://gizmodo.uol.com.br/bacteria-multirresistente-que-representa-risco-global-de-saude-e-detectada-no-nordeste/</td><td>https://gizmodo.uol.com.br/wp-content/blogs.dir/8/files/2024/10/bacteria-fapesp.jpg</td></tr><tr><td>Redação Terra</td><td>Ao que parece o relacionamento de Sandy Leah Lima, de 41 anos, com o nutrólogo Pedro Andrade engrenou. Os dois foram vistos juntos nos últimos dias em uma sorveteria em Campinas (SP), terra natal da … [+2030 chars]</td><td>Ao que parece o relacionamento de Sandy Leah Lima, de 41 anos, com o nutrólogo Pedro Andrade ...</td><td>2024-10-01T12:54:31Z</td><td>Terra.com.br</td><td>Ficou sério? Sandy faz aparição pública com suposto novo namorado</td><td>https://www.terra.com.br/diversao/gente/ficou-serio-sandy-faz-aparicao-publica-com-suposto-novo-namorado,6f1d0e045ee6b756838fb21a5c6d81bc1ffjxl31.html</td><td>https://p2.trrsf.com/image/fget/cf/1200/630/middle/images.terra.com/2024/08/02/medico-e-sandy-soejwwo7g2lw.png</td></tr><tr><td>Fábia Oliveira</td><td>A curiosidade dos fãs sobre o namoro de Sandy e Pedro Andrade, revelado com exclusividade por esta colunista no fim de julho, está cada vez maior, principalmente depois que uma foto dos pombinhos pas… [+3884 chars]</td><td>De acordo com Lucas Pasin, do UOL, a cantora Sandy já visitou o amado no trabalho e Pedro Andrade ainda deu bronca nos amigos por vazarem um vídeo</td><td>2024-10-02T14:30:29Z</td><td>Metropoles.com</td><td>Novos detalhes do namoro de Sandy e Pedro Andrade vêm à tona</td><td>https://www.metropoles.com/colunas/fabia-oliveira/novos-detalhes-do-namoro-de-sandy-e-pedro-andrade-vem-a-tona</td><td>https://uploads.metroimg.com/wp-content/uploads/2024/10/01123003/Sandy-e-Pedro-Andrade-1.jpg</td></tr><tr><td>Fábia Oliveira</td><td>Sandy foi flagrada juntinho com o novo namorado, o médico Pedro Andrade, pela primeira vez. Os dois foram vistos abraçados andando pelas ruas da Europa. Na foto, obtida com exclusividade pelo perfil … [+813 chars]</td><td>A cantora foi fotografada pelas ruas do Europa abraçadinha com o novo amor; casal está junto há alguns meses, como revelou a coluna</td><td>2024-10-01T15:33:17Z</td><td>Metropoles.com</td><td>Foto: Sandy é flagrada com namorado médico pela primeira vez</td><td>https://www.metropoles.com/colunas/fabia-oliveira/foto-sandy-e-flagrada-com-namorado-medico-pela-primeira-vez</td><td>https://uploads.metroimg.com/wp-content/uploads/2024/08/12134715/Sandy-e-Pedro-Andrade.jpg</td></tr><tr><td>Gabriel Lima</td><td>Ao que tudo indica, a relação entre Sandy e o médico Pedro Carvalho engrenou. Isso porque a cantora foi vista com o rapaz tomando um sorvete em Campinas, sua terra natal, ao lado do filho Theo, de 10… [+1994 chars]</td><td>A cantora Sandy está namorando o médico Pedro Andrade. Os dois estavam em uma sorveteira acompanhados do filho da artista</td><td>2024-10-01T13:30:02Z</td><td>Metropoles.com</td><td>Sandy e médico circulam como um casal por Campinas, diz site</td><td>https://www.metropoles.com/celebridades/sandy-e-medico-circulam-como-um-casal-por-campinas-diz-site</td><td>https://uploads.metroimg.com/wp-content/uploads/2024/08/02093815/capa-1721.jpg</td></tr></tbody></table></div>"
      ]
     },
     "metadata": {
      "application/vnd.databricks.v1+output": {
       "addedWidgets": {},
       "aggData": [],
       "aggError": "",
       "aggOverflow": false,
       "aggSchema": [],
       "aggSeriesLimitReached": false,
       "aggType": "",
       "arguments": {},
       "columnCustomDisplayInfos": {},
       "data": [
        [
         "Agência Fapesp",
         "Texto: André Julião |Agência FAPESP\r\nUma cepa da bactéria Klebsiella pneumoniae isolada de uma mulher de 86 anos com infecção urinária, admitida em um hospital em uma cidade da região Nordeste em 202… [+5151 chars]",
         "Cepa de Klebsiella pneumoniae havia sido identificada previamente nos Estados Unidos. Microrganismo costuma causar infecções em ambiente hospitalar e não é eliminado por nenhum antibiótico existente, sendo particularmente perigoso para pessoas com baixa imuni…",
         "2024-10-09T21:36:00Z",
         "Uol.com.br",
         "Bactéria multirresistente que representa risco global de saúde é detectada no Nordeste",
         "https://gizmodo.uol.com.br/bacteria-multirresistente-que-representa-risco-global-de-saude-e-detectada-no-nordeste/",
         "https://gizmodo.uol.com.br/wp-content/blogs.dir/8/files/2024/10/bacteria-fapesp.jpg"
        ],
        [
         "Redação Terra",
         "Ao que parece o relacionamento de Sandy Leah Lima, de 41 anos, com o nutrólogo Pedro Andrade engrenou. Os dois foram vistos juntos nos últimos dias em uma sorveteria em Campinas (SP), terra natal da … [+2030 chars]",
         "Ao que parece o relacionamento de Sandy Leah Lima, de 41 anos, com o nutrólogo Pedro Andrade ...",
         "2024-10-01T12:54:31Z",
         "Terra.com.br",
         "Ficou sério? Sandy faz aparição pública com suposto novo namorado",
         "https://www.terra.com.br/diversao/gente/ficou-serio-sandy-faz-aparicao-publica-com-suposto-novo-namorado,6f1d0e045ee6b756838fb21a5c6d81bc1ffjxl31.html",
         "https://p2.trrsf.com/image/fget/cf/1200/630/middle/images.terra.com/2024/08/02/medico-e-sandy-soejwwo7g2lw.png"
        ],
        [
         "Fábia Oliveira",
         "A curiosidade dos fãs sobre o namoro de Sandy e Pedro Andrade, revelado com exclusividade por esta colunista no fim de julho, está cada vez maior, principalmente depois que uma foto dos pombinhos pas… [+3884 chars]",
         "De acordo com Lucas Pasin, do UOL, a cantora Sandy já visitou o amado no trabalho e Pedro Andrade ainda deu bronca nos amigos por vazarem um vídeo",
         "2024-10-02T14:30:29Z",
         "Metropoles.com",
         "Novos detalhes do namoro de Sandy e Pedro Andrade vêm à tona",
         "https://www.metropoles.com/colunas/fabia-oliveira/novos-detalhes-do-namoro-de-sandy-e-pedro-andrade-vem-a-tona",
         "https://uploads.metroimg.com/wp-content/uploads/2024/10/01123003/Sandy-e-Pedro-Andrade-1.jpg"
        ],
        [
         "Fábia Oliveira",
         "Sandy foi flagrada juntinho com o novo namorado, o médico Pedro Andrade, pela primeira vez. Os dois foram vistos abraçados andando pelas ruas da Europa. Na foto, obtida com exclusividade pelo perfil … [+813 chars]",
         "A cantora foi fotografada pelas ruas do Europa abraçadinha com o novo amor; casal está junto há alguns meses, como revelou a coluna",
         "2024-10-01T15:33:17Z",
         "Metropoles.com",
         "Foto: Sandy é flagrada com namorado médico pela primeira vez",
         "https://www.metropoles.com/colunas/fabia-oliveira/foto-sandy-e-flagrada-com-namorado-medico-pela-primeira-vez",
         "https://uploads.metroimg.com/wp-content/uploads/2024/08/12134715/Sandy-e-Pedro-Andrade.jpg"
        ],
        [
         "Gabriel Lima",
         "Ao que tudo indica, a relação entre Sandy e o médico Pedro Carvalho engrenou. Isso porque a cantora foi vista com o rapaz tomando um sorvete em Campinas, sua terra natal, ao lado do filho Theo, de 10… [+1994 chars]",
         "A cantora Sandy está namorando o médico Pedro Andrade. Os dois estavam em uma sorveteira acompanhados do filho da artista",
         "2024-10-01T13:30:02Z",
         "Metropoles.com",
         "Sandy e médico circulam como um casal por Campinas, diz site",
         "https://www.metropoles.com/celebridades/sandy-e-medico-circulam-como-um-casal-por-campinas-diz-site",
         "https://uploads.metroimg.com/wp-content/uploads/2024/08/02093815/capa-1721.jpg"
        ]
       ],
       "datasetInfos": [],
       "dbfsResultPath": null,
       "isJsonSchema": true,
       "metadata": {},
       "overflow": false,
       "plotOptions": {
        "customPlotOptions": {},
        "displayType": "table",
        "pivotAggregation": null,
        "pivotColumns": null,
        "xColumns": null,
        "yColumns": null
       },
       "removedWidgets": [],
       "schema": [
        {
         "metadata": "{}",
         "name": "author",
         "type": "\"string\""
        },
        {
         "metadata": "{}",
         "name": "content",
         "type": "\"string\""
        },
        {
         "metadata": "{}",
         "name": "description",
         "type": "\"string\""
        },
        {
         "metadata": "{}",
         "name": "publishedAt",
         "type": "\"string\""
        },
        {
         "metadata": "{}",
         "name": "source",
         "type": "\"string\""
        },
        {
         "metadata": "{}",
         "name": "title",
         "type": "\"string\""
        },
        {
         "metadata": "{}",
         "name": "url",
         "type": "\"string\""
        },
        {
         "metadata": "{}",
         "name": "urlToImage",
         "type": "\"string\""
        }
       ],
       "type": "table"
      }
     },
     "output_type": "display_data"
    }
   ],
   "source": [
    "#Salvar em parquet\n",
    "#dbutils.fs.rm(\"genoma.parquet\", True)\n",
    "df.write.parquet('/FileStore/genoma.parquet')\n",
    "display(spark.read.parquet('/FileStore/genoma.parquet'))"
   ]
  },
  {
   "cell_type": "markdown",
   "metadata": {
    "application/vnd.databricks.v1+cell": {
     "cellMetadata": {},
     "inputWidgets": {},
     "nuid": "bae660e1-5b28-4be3-b9c9-ac8a16b8f5c9",
     "showTitle": false,
     "title": ""
    }
   },
   "source": [
    "3. Cargas em Batches:\n",
    "Armazenar as notícias relevantes em um formato estruturado e facilmente acessível para consultas e análises posteriores. Essa carga deve acontecer 1 vez por hora. Se as notícias extraídas já tiverem sidos armazenadas na carga anterior, o processo deve ignorar e não armazenar as notícias novamente, os dados carregados não podem ficar duplicados.\n"
   ]
  },
  {
   "cell_type": "markdown",
   "metadata": {
    "application/vnd.databricks.v1+cell": {
     "cellMetadata": {},
     "inputWidgets": {},
     "nuid": "e8ed7c23-b10e-4bf2-9954-71fef3d6d67e",
     "showTitle": false,
     "title": ""
    }
   },
   "source": [
    "4. Dados transformados para consulta do público final\n",
    "A partir dos dados carregados, aplicar as seguintes transformações e armazenar o resultado final para a consulta do público final:\n",
    "4.1 - Quantidade de notícias por ano, mês e dia de publicação;\n",
    "4.2 - Quantidade de notícias por fonte e autor;\n",
    "4.3 - Quantidade de aparições de 3 palavras chaves por ano, mês e dia de publicação (as 3 palavras chaves serão as mesmas usadas para fazer os filtros de relevância do item 2 (2. Definir Critérios de Relevância)).\n",
    "Atualizar os dados transformados 1 vez por dia."
   ]
  }
 ],
 "metadata": {
  "application/vnd.databricks.v1+notebook": {
   "dashboards": [],
   "environmentMetadata": null,
   "language": "python",
   "notebookMetadata": {
    "pythonIndentUnit": 4
   },
   "notebookName": "ProjetoExtacaoDadosI",
   "widgets": {}
  }
 },
 "nbformat": 4,
 "nbformat_minor": 0
}
